{
 "cells": [
  {
   "cell_type": "code",
   "execution_count": 3,
   "metadata": {
    "id": "CBhmlUkQtJG-"
   },
   "outputs": [],
   "source": [
    "import requests\n",
    "from bs4 import BeautifulSoup\n",
    "import csv\n",
    "import pandas as pd\n",
    "import numpy as np\n"
   ]
  },
  {
   "cell_type": "code",
   "execution_count": 4,
   "metadata": {
    "id": "daZkQEQE9M94"
   },
   "outputs": [],
   "source": [
    "HEADERS = ({'User-Agent' :'Mozilla/5.0 (Windows NT 10.0; Win64; x64; rv:109.0) Gecko/20100101 Firefox/111.0', 'Accept-Language': 'en-US, en;q=0.5'})\n"
   ]
  },
  {
   "cell_type": "code",
   "execution_count": 5,
   "metadata": {
    "id": "goHgDnkLtKFw"
   },
   "outputs": [],
   "source": [
    "url = 'https://www.meesho.com/tshirts-men/pl/3k8?page=1'\n",
    "webpage = requests.get(url, headers=HEADERS)\n"
   ]
  },
  {
   "cell_type": "code",
   "execution_count": 6,
   "metadata": {
    "colab": {
     "base_uri": "https://localhost:8080/"
    },
    "id": "IigJglNAzvex",
    "outputId": "3b900104-b952-40df-d417-73d282cece4b"
   },
   "outputs": [
    {
     "data": {
      "text/plain": [
       "<Response [403]>"
      ]
     },
     "execution_count": 6,
     "metadata": {},
     "output_type": "execute_result"
    }
   ],
   "source": [
    "webpage = requests.get(url,headers = HEADERS)\n",
    "webpage"
   ]
  },
  {
   "cell_type": "code",
   "execution_count": 7,
   "metadata": {
    "id": "r9LXrPjttlod"
   },
   "outputs": [],
   "source": [
    "\n",
    "soup = BeautifulSoup(webpage.content, \"html.parser\")"
   ]
  },
  {
   "cell_type": "code",
   "execution_count": 8,
   "metadata": {
    "colab": {
     "base_uri": "https://localhost:8080/"
    },
    "id": "V2ZbYoZ1z4bt",
    "outputId": "1031c31c-efd9-46e6-c258-e8711d085090"
   },
   "outputs": [
    {
     "data": {
      "text/plain": [
       "<!DOCTYPE html>\n",
       "\n",
       "<html lang=\"en-US\">\n",
       "<head>\n",
       "<title>Just a moment...</title>\n",
       "<meta content=\"text/html; charset=utf-8\" http-equiv=\"Content-Type\"/>\n",
       "<meta content=\"IE=Edge\" http-equiv=\"X-UA-Compatible\"/>\n",
       "<meta content=\"noindex,nofollow\" name=\"robots\"/>\n",
       "<meta content=\"width=device-width,initial-scale=1\" name=\"viewport\"/>\n",
       "<link href=\"/cdn-cgi/styles/challenges.css\" rel=\"stylesheet\"/>\n",
       "</head>\n",
       "<body class=\"no-js\">\n",
       "<div class=\"main-wrapper\" role=\"main\">\n",
       "<div class=\"main-content\">\n",
       "<noscript>\n",
       "<div id=\"challenge-error-title\">\n",
       "<div class=\"h2\">\n",
       "<span class=\"icon-wrapper\">\n",
       "<div class=\"heading-icon warning-icon\"></div>\n",
       "</span>\n",
       "<span id=\"challenge-error-text\">\n",
       "                        Enable JavaScript and cookies to continue\n",
       "                    </span>\n",
       "</div>\n",
       "</div>\n",
       "</noscript>\n",
       "<div id=\"trk_jschal_js\" style=\"display:none;background-image:url('/cdn-cgi/images/trace/managed/nojs/transparent.gif?ray=7b1477954abee334')\"></div>\n",
       "<form action=\"/tshirts-men/pl/3k8?page=1&amp;__cf_chl_f_tk=QWgXRU85W6ttyaw2tp0kVILbY3327q1JxYIjSOMwH9c-1680390224-0-gaNycGzNCqU\" enctype=\"application/x-www-form-urlencoded\" id=\"challenge-form\" method=\"POST\">\n",
       "<input name=\"md\" type=\"hidden\" value=\"cqDdcWlWAciOS.0F.PMa6lrRLNwpdNP8HdtYVCLHh5g-1680390224-0-AYuz_ICc2ai1mt-qDI_Gg8yY_iwZGIq1YzLNJIwc4tb8C87RKWifGNw6XKZerv4AopUYQ-rHZESM267F5vTlflNUDHIudx59AbPczlMeO9EOwIUaRpZBujkY5r7JQS0VrLEG1k80KQYF2RquOYIBlr1Y5x54vXin6c87ofH1wo_toxMALUS6TkLD3H0Jyko8pr1W_SY4wrHwfn9vZzNfu1dUJTcmxq9QG8pnrCMYh_bTJTavKCGGHoqkV6DfkqZmT6MOamvR5yS7w_zMSLOnqk8g7Q1nMT-xU8fOyJeiSJ0Wxv_UhpahqPdgXkjNoLwW_Uepy--Vs3kBs4d3QLzeWaFjQQm3PPAgwDX-ATFqT4GxURcnxprYuYPdCftlifuUr6vPCuq9TcsCDavCb0cr_8ntvioekkUCjcxWhoWeSji4sbl5JKCwgOO8AVVzRYqnfKf9z7HPAMbfgCB1WSYgV4dyX69l2atMW28r1qpllKaTdVtuQhNwsnrP3PagNs2rq3tUlPRaSNOpUHTQznC88dzCDonat9oJi253x9dALog22_OJf8nMcF1Zv7M5bFVFC5qLvkWWkDtSlVuj6VETmi08a-jIBIdqOPZvDK9Jn-vuokOhycQnLq24SeP6oZYKkLnpL9FsXhrN1OmZe2gfLEH9jHYGOMfMcOqZ-bNvcd-GSzFC4mQPDTexDPYg5LWsvGmFH4u42e8okXH1JDHnAMJeOcqnu-kL6I7p8rr6CSE_IuEXc1l2VCwXLX41CqYQBeYb0DuFucACbJqBeWHfEUaCjBRiEgRMPbyYoxh7NyNvWiR29TNZMiTawHAFZnrze79jhJf7q9VC9yYRQ68jpgEl1ZiKCmFAWoMkTZuBHbTU-RAwPO9HqHXOFIzviEXxjTVJl4KQJ7EXXMyKPEY4rYm0dYsQQipnvPU4pMqKYhDvlug-GnEpCye1hoBPKr0xXg31iC-7CIrU4GorS3AX1Js35UVQIwIfcW8UtJw0Mz0oo6uaJa7ha7UBVEgPQ5jNiz6dDLE7hYdnf7xyubRf-972kiT2TWRO59_K8RyTsmxPyK62xKSgIpqi_QLgYMQwkkTcnsH4NtWUBjPdin19MtWHltKY7K6r1TftI2Uz7-XNrCLgZZ6yY_OJxTgcq0InxnC-4j9lkCVsRPbE9etJvZnuL1pBwJExCml3fb9EiKFIUvlj5CXzzruAPqOSdABK70pcCUPFz2egQZUJj9l5DXFxiIucNdBIABMhTnhs2bpvDkm8VmUFRyb1IDw6rtGzsbeR7t46cGKIkU358uZFLH2n07jExU30ELt3N9wKiqamcqnMhAqIyJ1_B3GGkaBSD4QC05TfnttY6YjE5vpVzIBk0iXeJ-oGMUNmMywruKly-s99373BcB8-w3tjmBrJyKSeh-h-W1alQu0N9OjJRUvwy8XW5-i4i6vOUEaEaNcplCxyzJeXA-LkhmLVL2vy05z9TUDbqbYN07XX0U8v6av_vecRn4M2979RwgWUXVAER1TYCEm5gtpXi2PPcpOmim33Vs1-SZnVb7kKJDp8BZf174-7_ucqoInMx6Uf7eNHWDQE8DsBvzGJ6MZ7DKFSvePpGyT_1so1snWGnSJ-yfKuHeurK-rMWJ0FBtuj3LXkWUpVJBnWFoBD0Q_gp17dUNT7lebJmD6Ug48XnGbZAVuCWVqIOt8FISjupcaLkcSFAXYkkwUVINwKRtr6j8PGtPdxGgtho-1A29yJDWp53YEeWsMesH6Mc461nUXG6VzVPAhC_d3stONS-R4cdsUIYyQ9XaZ4bmr9nRWDfBuDlxRxS5lmAg823-gr-6wa4X71epCdcersocoGtvdegH7QKGYQceMsPx_-zua1J9mQkxVDU31syO0cyYlGoLrUt3j6YJkxeukXmSEMCeS6hjHnkjqiRgQywlWloiU0KhsSlfMpNdOM8mQ4k_GlQKB5XpeSzMWo4rvF55hzc22nJU0bFrtRXEwKEl1HwyIqknbaChMxUxT_PHUhv9jG2BxxzGbyNa1LqnYqb0INgvMtC8Wk-8FedrCO1AaW5orTB4Zu9XHqYzaivsME7erBiD_4OEqylY0p1j8MeDR38j97jzNPm2Hhi6zZI1dUDp-aDAnMquWEehEU0s0Qi_kHw94ximg4FM_yLdEdVNm7n0K54pNsTZ_LDbqf_4jTmprP2ZbQd4ZarWnX249TULv9krmZyT_NuZcULhliKHvjmAtkRd9u6WoiBgXZf2uiRzvqGaGnOvry5-jkURNntz4lcKlgatUA1WAFAe26t3TAL122ZVtLoSknwB8K6aZcZKgXn0XH17AEuYBClu5kc5zmagdu1B-uZEunBluMoSJkagTozFe5xe31QZkL1CxQrZy3xGxG40Kty0gUKVTopOKXDZdGBs0-vKnAN0YSM_dgLVCuaZNw4eNWIePZXnpqux4SuxWVmevPe4ByMUyMX7fIYB5A8zri-hqKCBAFgpReFZ5CLzriptoJ6DfmboSCzXt7sErSlKdyOdmrN2J66_VDBW-pRBZKm5tvY84G9nopvdN_8XeMXMUEEoyEuDTvH51WvvAG-oaiOeJz0cShP7JIjYbOruKj8UdP2TsO0q1VaQilonylaQ2Fn9ESGlHBX7tQSm7lMGgjRC1iY80-VwQ2Z9waSyLa\"/>\n",
       "</form>\n",
       "</div>\n",
       "</div>\n",
       "<script>\n",
       "    (function(){\n",
       "        window._cf_chl_opt={\n",
       "            cvId: '2',\n",
       "            cZone: 'www.meesho.com',\n",
       "            cType: 'managed',\n",
       "            cNounce: '44669',\n",
       "            cRay: '7b1477954abee334',\n",
       "            cHash: '771629cd0939319',\n",
       "            cUPMDTk: \"\\/tshirts-men\\/pl\\/3k8?page=1&__cf_chl_tk=QWgXRU85W6ttyaw2tp0kVILbY3327q1JxYIjSOMwH9c-1680390224-0-gaNycGzNCqU\",\n",
       "            cFPWv: 'b',\n",
       "            cTTimeMs: '1000',\n",
       "            cMTimeMs: '0',\n",
       "            cTplV: 5,\n",
       "            cTplB: 'cf',\n",
       "            cK: \"\",\n",
       "            cRq: {\n",
       "                ru: 'aHR0cHM6Ly93d3cubWVlc2hvLmNvbS90c2hpcnRzLW1lbi9wbC8zazg/cGFnZT0x',\n",
       "                ra: 'TW96aWxsYS81LjAgKFdpbmRvd3MgTlQgMTAuMDsgV2luNjQ7IHg2NDsgcnY6MTA5LjApIEdlY2tvLzIwMTAwMTAxIEZpcmVmb3gvMTExLjA=',\n",
       "                rm: 'R0VU',\n",
       "                d: 'cMDcUcMK2ho7r7mqUAxOnNymGngMbHGtPQ4ZMNuONzJo2JXoY1AuL7j32/JQhFDTDxUzyTswujstmB+IgBPGxbK47u27C6eAI2AygUf5dHeNbSJPwjr7Q4iDLhkcNN8QrftsLxIU2URkWg4nNBsDtVP9RZqu0tPNDfFxPcOh02aM6LhIo0EY8aPpM2W95nRlGkv/HDDUMk6cRadl8D5xFGmR3eSy/CI20oUkC75C529mbUT5twEGEWkOqliC2eG3OM/EdJx+1ejQFPcBVBHiEClhNsw1DL9DZrUJO8sNRzcCWeuW2+/jaRYgwCK6BpQSzs4usO36Ma7+sA8NPAObMsDYqXu0LTFHVheJ22adFGXGJlmCPqK9Phk0SfheBdH8CvNE/wiUibeI0Hz2mR8jFRHtC6z5+msdi6alLWgHKnA3cTSMqIcw+NzJ4pspxTIbWW7vYl+9HH6weHrsTlZ13tI/JRScW1eA/yFl4yTVXbEji7RU1Du5onMF0SlnzMfzjxno2TFCSIg407YpmV8jUd9NILHhh+XGv6qShLtfjVGisLSL2il3s2BOV/zRR2RgTtMmttzcA13PGDWQojz0Dw==',\n",
       "                t: 'MTY4MDM5MDIyNC4yMTYwMDA=',\n",
       "                m: 'l8IidOO0bwSuoqdcGaWvwOpnIqUInhEMHu55eAa23bc=',\n",
       "                i1: 'eTbd8o8r/u9NDHnuv8LX8w==',\n",
       "                i2: 'ZJUBIHZkADK9MJ4ryCAJSQ==',\n",
       "                zh: 'y5LBRIapGkKMzhZ0bNjgJ7LdoioTUlggZfkgnNU3ihc=',\n",
       "                uh: '3YV8czfqmS5PMFMHTeFsunzsyatsj3vodYl1F1v0elk=',\n",
       "                hh: '7PxFw2PDF7g7I15E41bLcZDq9st2lF+rhTuq2nNy5wY=',\n",
       "            }\n",
       "        };\n",
       "        var trkjs = document.createElement('img');\n",
       "        trkjs.setAttribute('src', '/cdn-cgi/images/trace/managed/js/transparent.gif?ray=7b1477954abee334');\n",
       "        trkjs.setAttribute('alt', '');\n",
       "        trkjs.setAttribute('style', 'display: none');\n",
       "        document.body.appendChild(trkjs);\n",
       "        var cpo = document.createElement('script');\n",
       "        cpo.src = '/cdn-cgi/challenge-platform/h/b/orchestrate/managed/v1?ray=7b1477954abee334';\n",
       "        window._cf_chl_opt.cOgUHash = location.hash === '' && location.href.indexOf('#') !== -1 ? '#' : location.hash;\n",
       "        window._cf_chl_opt.cOgUQuery = location.search === '' && location.href.slice(0, location.href.length - window._cf_chl_opt.cOgUHash.length).indexOf('?') !== -1 ? '?' : location.search;\n",
       "        if (window.history && window.history.replaceState) {\n",
       "            var ogU = location.pathname + window._cf_chl_opt.cOgUQuery + window._cf_chl_opt.cOgUHash;\n",
       "            history.replaceState(null, null, \"\\/tshirts-men\\/pl\\/3k8?page=1&__cf_chl_rt_tk=QWgXRU85W6ttyaw2tp0kVILbY3327q1JxYIjSOMwH9c-1680390224-0-gaNycGzNCqU\" + window._cf_chl_opt.cOgUHash);\n",
       "            cpo.onload = function() {\n",
       "                history.replaceState(null, null, ogU);\n",
       "            };\n",
       "        }\n",
       "        document.getElementsByTagName('head')[0].appendChild(cpo);\n",
       "    }());\n",
       "</script>\n",
       "</body>\n",
       "</html>"
      ]
     },
     "execution_count": 8,
     "metadata": {},
     "output_type": "execute_result"
    }
   ],
   "source": [
    "soup"
   ]
  },
  {
   "cell_type": "code",
   "execution_count": 9,
   "metadata": {
    "id": "f79qc8Hoz9c2"
   },
   "outputs": [],
   "source": [
    "links = soup.find_all(\"a\", attrs={'class':'sc-ftTHYK ProductList__GridCol-sc-8lnc8o-0 fyVNRn eCJiSA'})"
   ]
  },
  {
   "cell_type": "code",
   "execution_count": 10,
   "metadata": {
    "colab": {
     "base_uri": "https://localhost:8080/"
    },
    "id": "Eo3jMF8fzCS4",
    "outputId": "81c931d4-cd01-447f-d421-28518a45d1c4"
   },
   "outputs": [
    {
     "data": {
      "text/plain": [
       "[]"
      ]
     },
     "execution_count": 10,
     "metadata": {},
     "output_type": "execute_result"
    }
   ],
   "source": [
    "links"
   ]
  },
  {
   "cell_type": "code",
   "execution_count": 11,
   "metadata": {
    "id": "D2-Okcxe497D"
   },
   "outputs": [],
   "source": [
    "def get_store_name(soup):\n",
    "\n",
    "    try:\n",
    "        # Outer Tag Object\n",
    "        title = soup.find(\"div\", attrs={\"id\":'_1RLviY'})\n",
    "        \n",
    "        # Inner NavigatableString Object\n",
    "        title_value = title.text\n",
    "\n",
    "        # Title as a string value\n",
    "        title_string = title_value.strip()\n",
    "\n",
    "    except AttributeError:\n",
    "        title_string = \"\"\n",
    "        return title_string\n",
    "\n",
    "# Function to extract Product Price\n",
    "def get_address(soup):\n",
    "\n",
    "    try:\n",
    "        address = soup.find(\"ul\", attrs={'class':'_3_27HS'}).string.strip()\n",
    "\n",
    "    except AttributeError:\n",
    "      get_address = \"\"\n",
    "      return address\n",
    "\n",
    "# Function to extract Product Rating\n",
    "def get_timing(soup):\n",
    "\n",
    "    try:\n",
    "        timing = soup.find(\"div\", attrs={'class':'_1TPvTK'}).string.strip()\n",
    "    \n",
    "    except AttributeError:\n",
    "      timing = \"\"\t\n",
    "      return timing"
   ]
  },
  {
   "cell_type": "code",
   "execution_count": 18,
   "metadata": {},
   "outputs": [],
   "source": [
    "# Fetch links as List of Tag Objects\n",
    "links = soup.find_all(\"a\", attrs={'class':'_1fQZEK'})\n",
    "\n",
    "    # Store the links\n",
    "links_list = []\n",
    "for link in links:\n",
    "    links_list.append(link.get('href'))\n",
    "    d = {\"storename\":[], \"address\":[], \"timing\":[]}\n",
    "    \n",
    "    # Loop for extracting product details from each link \n",
    "    for link in links_list:\n",
    "        new_webpage = requests.get(\"https://www.flipkart.com\" + link, headers=HEADERS)\n",
    "\n",
    "        new_soup = BeautifulSoup(new_webpage.content, \"html.parser\")\n",
    "\n",
    "        # Function calls to display all necessary product information\n",
    "        d['storename'].append(get_store_name(new_soup))\n",
    "        d['address'].append(get_address(new_soup))\n",
    "        d['timing'].append(get_timing(new_soup))\n",
    "\n",
    "    \n",
    "    amazon_df = pd.DataFrame.from_dict(d)\n",
    "    amazon_df.to_csv(\"amazon_data.csv\", header=True, index=False)\n"
   ]
  },
  {
   "cell_type": "code",
   "execution_count": 19,
   "metadata": {},
   "outputs": [
    {
     "ename": "NameError",
     "evalue": "name 'amazon_df' is not defined",
     "output_type": "error",
     "traceback": [
      "\u001b[1;31m---------------------------------------------------------------------------\u001b[0m",
      "\u001b[1;31mNameError\u001b[0m                                 Traceback (most recent call last)",
      "Input \u001b[1;32mIn [19]\u001b[0m, in \u001b[0;36m<cell line: 1>\u001b[1;34m()\u001b[0m\n\u001b[1;32m----> 1\u001b[0m \u001b[43mamazon_df\u001b[49m\n",
      "\u001b[1;31mNameError\u001b[0m: name 'amazon_df' is not defined"
     ]
    }
   ],
   "source": []
  },
  {
   "cell_type": "code",
   "execution_count": null,
   "metadata": {},
   "outputs": [],
   "source": []
  }
 ],
 "metadata": {
  "colab": {
   "provenance": []
  },
  "kernelspec": {
   "display_name": "Python 3 (ipykernel)",
   "language": "python",
   "name": "python3"
  },
  "language_info": {
   "codemirror_mode": {
    "name": "ipython",
    "version": 3
   },
   "file_extension": ".py",
   "mimetype": "text/x-python",
   "name": "python",
   "nbconvert_exporter": "python",
   "pygments_lexer": "ipython3",
   "version": "3.9.12"
  }
 },
 "nbformat": 4,
 "nbformat_minor": 1
}
